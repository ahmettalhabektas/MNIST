{
 "cells": [
  {
   "cell_type": "code",
   "execution_count": 1,
   "metadata": {
    "colab": {
     "base_uri": "https://localhost:8080/"
    },
    "executionInfo": {
     "elapsed": 17645,
     "status": "ok",
     "timestamp": 1656517321003,
     "user": {
      "displayName": "Ahmet Talha Bektaş",
      "userId": "05183345877045310898"
     },
     "user_tz": -180
    },
    "id": "q-n2PNmqH38f",
    "outputId": "2d314b6a-c819-422e-cbbb-33b225ba3131"
   },
   "outputs": [
    {
     "name": "stdout",
     "output_type": "stream",
     "text": [
      "Mounted at /content/drive\n"
     ]
    }
   ],
   "source": [
    "from google.colab import drive\n",
    "drive.mount(\"/content/drive\")"
   ]
  },
  {
   "cell_type": "code",
   "execution_count": null,
   "metadata": {
    "id": "PLUiB2zWH3q5"
   },
   "outputs": [],
   "source": [
    "from google.colab import files\n",
    "uploaded=files.upload()"
   ]
  },
  {
   "cell_type": "markdown",
   "metadata": {
    "id": "ZktU_dyYZtXx"
   },
   "source": [
    "#60 bin el yazması rakamnların sınıflandırılması"
   ]
  },
  {
   "cell_type": "code",
   "execution_count": 2,
   "metadata": {
    "executionInfo": {
     "elapsed": 3406,
     "status": "ok",
     "timestamp": 1656517345003,
     "user": {
      "displayName": "Ahmet Talha Bektaş",
      "userId": "05183345877045310898"
     },
     "user_tz": -180
    },
    "id": "FqJ0bftfZdac"
   },
   "outputs": [],
   "source": [
    "import tensorflow as tf\n",
    "from tensorflow import keras"
   ]
  },
  {
   "cell_type": "code",
   "execution_count": 3,
   "metadata": {
    "colab": {
     "base_uri": "https://localhost:8080/"
    },
    "executionInfo": {
     "elapsed": 789,
     "status": "ok",
     "timestamp": 1656517385959,
     "user": {
      "displayName": "Ahmet Talha Bektaş",
      "userId": "05183345877045310898"
     },
     "user_tz": -180
    },
    "id": "joX0U2QCZqPZ",
    "outputId": "9c754d15-ecf2-4908-f304-484d9826a1d7"
   },
   "outputs": [
    {
     "name": "stdout",
     "output_type": "stream",
     "text": [
      "Downloading data from https://storage.googleapis.com/tensorflow/tf-keras-datasets/mnist.npz\n",
      "11493376/11490434 [==============================] - 0s 0us/step\n",
      "11501568/11490434 [==============================] - 0s 0us/step\n"
     ]
    }
   ],
   "source": [
    "mnist =keras.datasets.mnist\n",
    "(train_images,train_labels),(test_images,test_labels)=mnist.load_data()"
   ]
  },
  {
   "cell_type": "code",
   "execution_count": 4,
   "metadata": {
    "colab": {
     "base_uri": "https://localhost:8080/"
    },
    "executionInfo": {
     "elapsed": 23,
     "status": "ok",
     "timestamp": 1656517385960,
     "user": {
      "displayName": "Ahmet Talha Bektaş",
      "userId": "05183345877045310898"
     },
     "user_tz": -180
    },
    "id": "fdjBk0zRaUEe",
    "outputId": "2e951dfc-d35e-4bd1-ad41-00e275e75a2b"
   },
   "outputs": [
    {
     "data": {
      "text/plain": [
       "(60000, 28, 28)"
      ]
     },
     "execution_count": 4,
     "metadata": {},
     "output_type": "execute_result"
    }
   ],
   "source": [
    "train_images.shape"
   ]
  },
  {
   "cell_type": "code",
   "execution_count": 5,
   "metadata": {
    "colab": {
     "base_uri": "https://localhost:8080/"
    },
    "executionInfo": {
     "elapsed": 13,
     "status": "ok",
     "timestamp": 1656517385961,
     "user": {
      "displayName": "Ahmet Talha Bektaş",
      "userId": "05183345877045310898"
     },
     "user_tz": -180
    },
    "id": "vPH1FDYvaZsK",
    "outputId": "f5e57b13-5a5e-41bf-82a7-fbe7d1322771"
   },
   "outputs": [
    {
     "data": {
      "text/plain": [
       "(array([[[0, 0, 0, ..., 0, 0, 0],\n",
       "         [0, 0, 0, ..., 0, 0, 0],\n",
       "         [0, 0, 0, ..., 0, 0, 0],\n",
       "         ...,\n",
       "         [0, 0, 0, ..., 0, 0, 0],\n",
       "         [0, 0, 0, ..., 0, 0, 0],\n",
       "         [0, 0, 0, ..., 0, 0, 0]],\n",
       " \n",
       "        [[0, 0, 0, ..., 0, 0, 0],\n",
       "         [0, 0, 0, ..., 0, 0, 0],\n",
       "         [0, 0, 0, ..., 0, 0, 0],\n",
       "         ...,\n",
       "         [0, 0, 0, ..., 0, 0, 0],\n",
       "         [0, 0, 0, ..., 0, 0, 0],\n",
       "         [0, 0, 0, ..., 0, 0, 0]],\n",
       " \n",
       "        [[0, 0, 0, ..., 0, 0, 0],\n",
       "         [0, 0, 0, ..., 0, 0, 0],\n",
       "         [0, 0, 0, ..., 0, 0, 0],\n",
       "         ...,\n",
       "         [0, 0, 0, ..., 0, 0, 0],\n",
       "         [0, 0, 0, ..., 0, 0, 0],\n",
       "         [0, 0, 0, ..., 0, 0, 0]],\n",
       " \n",
       "        ...,\n",
       " \n",
       "        [[0, 0, 0, ..., 0, 0, 0],\n",
       "         [0, 0, 0, ..., 0, 0, 0],\n",
       "         [0, 0, 0, ..., 0, 0, 0],\n",
       "         ...,\n",
       "         [0, 0, 0, ..., 0, 0, 0],\n",
       "         [0, 0, 0, ..., 0, 0, 0],\n",
       "         [0, 0, 0, ..., 0, 0, 0]],\n",
       " \n",
       "        [[0, 0, 0, ..., 0, 0, 0],\n",
       "         [0, 0, 0, ..., 0, 0, 0],\n",
       "         [0, 0, 0, ..., 0, 0, 0],\n",
       "         ...,\n",
       "         [0, 0, 0, ..., 0, 0, 0],\n",
       "         [0, 0, 0, ..., 0, 0, 0],\n",
       "         [0, 0, 0, ..., 0, 0, 0]],\n",
       " \n",
       "        [[0, 0, 0, ..., 0, 0, 0],\n",
       "         [0, 0, 0, ..., 0, 0, 0],\n",
       "         [0, 0, 0, ..., 0, 0, 0],\n",
       "         ...,\n",
       "         [0, 0, 0, ..., 0, 0, 0],\n",
       "         [0, 0, 0, ..., 0, 0, 0],\n",
       "         [0, 0, 0, ..., 0, 0, 0]]], dtype=uint8),)"
      ]
     },
     "execution_count": 5,
     "metadata": {},
     "output_type": "execute_result"
    }
   ],
   "source": [
    "train_images,"
   ]
  },
  {
   "cell_type": "code",
   "execution_count": 6,
   "metadata": {
    "colab": {
     "base_uri": "https://localhost:8080/"
    },
    "executionInfo": {
     "elapsed": 9,
     "status": "ok",
     "timestamp": 1656517385961,
     "user": {
      "displayName": "Ahmet Talha Bektaş",
      "userId": "05183345877045310898"
     },
     "user_tz": -180
    },
    "id": "O3jZE5lnab94",
    "outputId": "a1f248bf-bd17-4f69-87cd-4c50012e1d52"
   },
   "outputs": [
    {
     "data": {
      "text/plain": [
       "array([5, 0, 4, ..., 5, 6, 8], dtype=uint8)"
      ]
     },
     "execution_count": 6,
     "metadata": {},
     "output_type": "execute_result"
    }
   ],
   "source": [
    "train_labels"
   ]
  },
  {
   "cell_type": "code",
   "execution_count": 2,
   "metadata": {
    "colab": {
     "base_uri": "https://localhost:8080/",
     "height": 282
    },
    "executionInfo": {
     "elapsed": 456,
     "status": "ok",
     "timestamp": 1656517386411,
     "user": {
      "displayName": "Ahmet Talha Bektaş",
      "userId": "05183345877045310898"
     },
     "user_tz": -180
    },
    "id": "Srrr_P0baf9k",
    "outputId": "7f2cd515-b020-4d58-f3e2-c56f5682ce98"
   },
   "outputs": [
    {
     "ename": "NameError",
     "evalue": "name 'train_images' is not defined",
     "output_type": "error",
     "traceback": [
      "\u001b[1;31m---------------------------------------------------------------------------\u001b[0m",
      "\u001b[1;31mNameError\u001b[0m                                 Traceback (most recent call last)",
      "\u001b[1;32m~\\AppData\\Local\\Temp/ipykernel_10704/761848072.py\u001b[0m in \u001b[0;36m<module>\u001b[1;34m\u001b[0m\n\u001b[0;32m      1\u001b[0m \u001b[1;32mfrom\u001b[0m \u001b[0mmatplotlib\u001b[0m \u001b[1;32mimport\u001b[0m \u001b[0mpyplot\u001b[0m \u001b[1;32mas\u001b[0m \u001b[0mplt\u001b[0m\u001b[1;33m\u001b[0m\u001b[1;33m\u001b[0m\u001b[0m\n\u001b[1;32m----> 2\u001b[1;33m \u001b[0mplt\u001b[0m\u001b[1;33m.\u001b[0m\u001b[0mimshow\u001b[0m\u001b[1;33m(\u001b[0m\u001b[0mtrain_images\u001b[0m\u001b[1;33m[\u001b[0m\u001b[1;36m8569\u001b[0m\u001b[1;33m]\u001b[0m\u001b[1;33m,\u001b[0m\u001b[0mcmap\u001b[0m\u001b[1;33m=\u001b[0m\u001b[1;34m\"gray\"\u001b[0m\u001b[1;33m)\u001b[0m\u001b[1;33m\u001b[0m\u001b[1;33m\u001b[0m\u001b[0m\n\u001b[0m",
      "\u001b[1;31mNameError\u001b[0m: name 'train_images' is not defined"
     ]
    }
   ],
   "source": [
    "from matplotlib import pyplot as plt\n",
    "plt.imshow(train_images[8569],cmap=\"gray\")\n"
   ]
  },
  {
   "cell_type": "code",
   "execution_count": 8,
   "metadata": {
    "colab": {
     "base_uri": "https://localhost:8080/"
    },
    "executionInfo": {
     "elapsed": 9,
     "status": "ok",
     "timestamp": 1656517386412,
     "user": {
      "displayName": "Ahmet Talha Bektaş",
      "userId": "05183345877045310898"
     },
     "user_tz": -180
    },
    "id": "4DYXOdOFuEZS",
    "outputId": "ce3ed855-6b7a-432f-ef80-131282634e04"
   },
   "outputs": [
    {
     "data": {
      "text/plain": [
       "5"
      ]
     },
     "execution_count": 8,
     "metadata": {},
     "output_type": "execute_result"
    }
   ],
   "source": [
    "train_labels[8569]"
   ]
  },
  {
   "cell_type": "code",
   "execution_count": 9,
   "metadata": {
    "colab": {
     "base_uri": "https://localhost:8080/",
     "height": 282
    },
    "executionInfo": {
     "elapsed": 7,
     "status": "ok",
     "timestamp": 1656517386412,
     "user": {
      "displayName": "Ahmet Talha Bektaş",
      "userId": "05183345877045310898"
     },
     "user_tz": -180
    },
    "id": "QDyu2QU2avow",
    "outputId": "50450794-33a0-4fd1-d840-93d71e2cb8e6"
   },
   "outputs": [
    {
     "data": {
      "text/plain": [
       "<matplotlib.image.AxesImage at 0x7f171776e590>"
      ]
     },
     "execution_count": 9,
     "metadata": {},
     "output_type": "execute_result"
    },
    {
     "data": {
      "image/png": "[encoded data removed]",
      "text/plain": [
       "<Figure size 432x288 with 1 Axes>"
      ]
     },
     "metadata": {
      "needs_background": "light"
     },
     "output_type": "display_data"
    }
   ],
   "source": [
    "plt.imshow(train_images[854],cmap=\"gray\")\n"
   ]
  },
  {
   "cell_type": "code",
   "execution_count": 10,
   "metadata": {
    "colab": {
     "base_uri": "https://localhost:8080/",
     "height": 282
    },
    "executionInfo": {
     "elapsed": 491,
     "status": "ok",
     "timestamp": 1656517386897,
     "user": {
      "displayName": "Ahmet Talha Bektaş",
      "userId": "05183345877045310898"
     },
     "user_tz": -180
    },
    "id": "fPFCQicsbEZw",
    "outputId": "86e50b6a-ba7a-4bab-b65d-f399c8f9e2be"
   },
   "outputs": [
    {
     "data": {
      "text/plain": [
       "<matplotlib.image.AxesImage at 0x7f17176e41d0>"
      ]
     },
     "execution_count": 10,
     "metadata": {},
     "output_type": "execute_result"
    },
    {
     "data": {
      "image/png": "[encoded data removed]",
      "text/plain": [
       "<Figure size 432x288 with 1 Axes>"
      ]
     },
     "metadata": {
      "needs_background": "light"
     },
     "output_type": "display_data"
    }
   ],
   "source": [
    "plt.imshow(train_images[42],cmap=\"gray\")\n"
   ]
  },
  {
   "cell_type": "code",
   "execution_count": 11,
   "metadata": {
    "executionInfo": {
     "elapsed": 29,
     "status": "ok",
     "timestamp": 1656517386902,
     "user": {
      "displayName": "Ahmet Talha Bektaş",
      "userId": "05183345877045310898"
     },
     "user_tz": -180
    },
    "id": "dK1iyPFDbGxc"
   },
   "outputs": [],
   "source": [
    "#Normalize ediyoruz resimleri\n",
    "train_images=train_images/255.0\n",
    "test_images=test_images/255.0"
   ]
  },
  {
   "cell_type": "code",
   "execution_count": 12,
   "metadata": {
    "executionInfo": {
     "elapsed": 747,
     "status": "ok",
     "timestamp": 1656517387622,
     "user": {
      "displayName": "Ahmet Talha Bektaş",
      "userId": "05183345877045310898"
     },
     "user_tz": -180
    },
    "id": "EBnhPMB2b2mX"
   },
   "outputs": [],
   "source": [
    "#Define the model architectrue\n",
    "# Modelin mimarisini oluşturalım\n",
    "\n",
    "model=keras.Sequential ([\n",
    "    keras.layers.InputLayer(input_shape=(28,28)),\n",
    "    keras.layers.Reshape(target_shape=(28,28,1)),\n",
    "    keras.layers.Conv2D( filters=12 , kernel_size=(3,3) , activation=tf.nn.relu ),\n",
    "    keras.layers.MaxPooling2D(pool_size=(2,2)),\n",
    "    keras.layers.Flatten() ,\n",
    "    keras.layers.Dense(10) ,\n",
    "])\n",
    "# her resim 28 piksele 28 piksel o yüzden input_shape=(28,28) (1.)\n",
    "# tamam 28 piksel ama onun 1 yani gri olduğunu gösteren bir şeyimiz yok bu sebeple bunu reshape(yeniden sekillendirmek)yapıyoruz(2.)\n",
    "# derin öğrenme resimlere kendi ürettiği filtereleri kullanrak daha iyi sonuç buluyor Burda 12. fitreyi kullanıyor(3.)\n",
    "# MaxPooling2D = aynı sayılardaki batch size gibi mesela bu örnekte hep 2 ye 2 piksel alıp götürcek(4.)\n",
    "#Flatten bu layerlar katman katman Flatten bunları birleştiriyor (5.)\n",
    "#"
   ]
  },
  {
   "cell_type": "markdown",
   "metadata": {
    "id": "G3MH2Vp8slDn"
   },
   "source": [
    "# CNN- Convolution Neural Networks "
   ]
  },
  {
   "cell_type": "code",
   "execution_count": 13,
   "metadata": {
    "executionInfo": {
     "elapsed": 25,
     "status": "ok",
     "timestamp": 1656517387628,
     "user": {
      "displayName": "Ahmet Talha Bektaş",
      "userId": "05183345877045310898"
     },
     "user_tz": -180
    },
    "id": "R8bRRto9k3vv"
   },
   "outputs": [],
   "source": [
    "# Train the digit classification model\n",
    "model.compile(optimizer=\"adam\",\n",
    "              loss=tf.keras.losses.SparseCategoricalCrossentropy(from_logits=True),\n",
    "              metrics=[\"accuracy\"])"
   ]
  },
  {
   "cell_type": "code",
   "execution_count": 14,
   "metadata": {
    "colab": {
     "base_uri": "https://localhost:8080/"
    },
    "executionInfo": {
     "elapsed": 214502,
     "status": "ok",
     "timestamp": 1656517602108,
     "user": {
      "displayName": "Ahmet Talha Bektaş",
      "userId": "05183345877045310898"
     },
     "user_tz": -180
    },
    "id": "oy4QjEaLpzsm",
    "outputId": "3a7bc28a-27b2-4003-b1d5-6623feac4094"
   },
   "outputs": [
    {
     "name": "stdout",
     "output_type": "stream",
     "text": [
      "Epoch 1/10\n",
      "1688/1688 [==============================] - 20s 12ms/step - loss: 0.2791 - accuracy: 0.9223 - val_loss: 0.1073 - val_accuracy: 0.9707\n",
      "Epoch 2/10\n",
      "1688/1688 [==============================] - 19s 11ms/step - loss: 0.1063 - accuracy: 0.9693 - val_loss: 0.0813 - val_accuracy: 0.9793\n",
      "Epoch 3/10\n",
      "1688/1688 [==============================] - 23s 14ms/step - loss: 0.0810 - accuracy: 0.9755 - val_loss: 0.0698 - val_accuracy: 0.9832\n",
      "Epoch 4/10\n",
      "1688/1688 [==============================] - 20s 12ms/step - loss: 0.0673 - accuracy: 0.9799 - val_loss: 0.0670 - val_accuracy: 0.9817\n",
      "Epoch 5/10\n",
      "1688/1688 [==============================] - 26s 15ms/step - loss: 0.0578 - accuracy: 0.9830 - val_loss: 0.0630 - val_accuracy: 0.9833\n",
      "Epoch 6/10\n",
      "1688/1688 [==============================] - 24s 14ms/step - loss: 0.0510 - accuracy: 0.9845 - val_loss: 0.0640 - val_accuracy: 0.9823\n",
      "Epoch 7/10\n",
      "1688/1688 [==============================] - 20s 12ms/step - loss: 0.0457 - accuracy: 0.9865 - val_loss: 0.0634 - val_accuracy: 0.9847\n",
      "Epoch 8/10\n",
      "1688/1688 [==============================] - 20s 12ms/step - loss: 0.0415 - accuracy: 0.9872 - val_loss: 0.0580 - val_accuracy: 0.9850\n",
      "Epoch 9/10\n",
      "1688/1688 [==============================] - 21s 12ms/step - loss: 0.0372 - accuracy: 0.9887 - val_loss: 0.0680 - val_accuracy: 0.9808\n",
      "Epoch 10/10\n",
      "1688/1688 [==============================] - 22s 13ms/step - loss: 0.0332 - accuracy: 0.9906 - val_loss: 0.0606 - val_accuracy: 0.9847\n"
     ]
    },
    {
     "data": {
      "text/plain": [
       "<keras.callbacks.History at 0x7f171386bb50>"
      ]
     },
     "execution_count": 14,
     "metadata": {},
     "output_type": "execute_result"
    }
   ],
   "source": [
    "from traitlets.traitlets import validate\n",
    "model.fit(train_images,train_labels,validation_split=0.1,epochs=10)"
   ]
  },
  {
   "cell_type": "code",
   "execution_count": 15,
   "metadata": {
    "colab": {
     "base_uri": "https://localhost:8080/"
    },
    "executionInfo": {
     "elapsed": 1923,
     "status": "ok",
     "timestamp": 1656517604023,
     "user": {
      "displayName": "Ahmet Talha Bektaş",
      "userId": "05183345877045310898"
     },
     "user_tz": -180
    },
    "id": "H_9mrN5HqLmr",
    "outputId": "7973b35b-f5b7-4c14-f4bb-d8dfbac66962"
   },
   "outputs": [
    {
     "name": "stdout",
     "output_type": "stream",
     "text": [
      "313/313 [==============================] - 2s 6ms/step - loss: 0.0552 - accuracy: 0.9839\n",
      "Accuracy:98.39\n"
     ]
    }
   ],
   "source": [
    "_, accuracy=model.evaluate(test_images,test_labels)\n",
    "# Normalde accuracy ile beraber bir şey daha var ama onu kullanmıcaz o sebeten mütevellit _, ile başladık . yani onu görmezden geldik\n",
    "print(\"Accuracy:%.2f\"%(accuracy*100))\n"
   ]
  },
  {
   "cell_type": "code",
   "execution_count": null,
   "metadata": {
    "id": "RBlnH8XfJDJu"
   },
   "outputs": [],
   "source": []
  }
 ],
 "metadata": {
  "accelerator": "TPU",
  "colab": {
   "authorship_tag": "ABX9TyP0FGDtXR/CbpNS9NXhs5u6",
   "collapsed_sections": [],
   "name": "El yazması.ipynb",
   "provenance": []
  },
  "gpuClass": "standard",
  "kernelspec": {
   "display_name": "Python 3 (ipykernel)",
   "language": "python",
   "name": "python3"
  },
  "language_info": {
   "codemirror_mode": {
    "name": "ipython",
    "version": 3
   },
   "file_extension": ".py",
   "mimetype": "text/x-python",
   "name": "python",
   "nbconvert_exporter": "python",
   "pygments_lexer": "ipython3",
   "version": "3.9.7"
  }
 },
 "nbformat": 4,
 "nbformat_minor": 1
}
